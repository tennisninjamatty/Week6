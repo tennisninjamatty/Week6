{
 "cells": [
  {
   "cell_type": "markdown",
   "metadata": {},
   "source": [
    "# Recursion\n",
    "\n",
    "Recursions are helpful concept in computing and computational thinking. Once you learn recursion, you would not want to use loops!\n",
    "\n",
    "\n",
    "Recursion helps us solve problems problems that can be broken down into smaller problems without changing their nature. For example, calculating the sum up to `n` of all non-negative integers. Calculating the sum of a very large `n`, say 2,235,254,342,686,143,153 is the same as calculating it for `n = 2` (i.e. 2 + 1 + 0 = 3) or `n = 1` (i.e. 1 + 0 = 1). For any `n`, we can write the sum of the numbers upto `n` as `sum(n) = n + sum(n - 1)`.\n",
    "\n",
    "\n",
    "To use recursion, think about it in the following steps:\n",
    "\n",
    "1. Think about the simplest input to the problem. In our case it is `0`.  We can see that sum(0) = 0.\n",
    "2. Next, iteratively increase the size of the input and work out the **solutions**. Let's increase the size of the problem and calculate the sum:\n",
    "\n",
    "* for `n = 1`, `sum(1) = 1 + 0 = 1`\n",
    "* for `n = 2`, `sum(2) = 2 + 1 + 0 = 3`\n",
    "* for `n = 3`, `sum(3) = 3 + 2 + 1  = 6`\n",
    "* for `n = 4`, `sum(4) = 4 + 3 + 2 + 1 = 10`\n",
    "* for `n = 5`, `sum(5) = 5 + 4 + 3 + 2 + 1 = 15`\n",
    "\n",
    "\n",
    "3. Lastly, think about how you can use the solution from a smaller input to solve the next bigger input. In our case,\n",
    "\n",
    "* can we use the solution of `sum(4)` to calculate `sum(5)`?\n",
    "* can we use the solution of `sum(3)` to calculate  `sum(4)`?\n",
    "* can we use the solution of `sum(2)` to calculate `sum(3)`?\n",
    "* can we use the solution of `sum(1)` to calculate `sum(2)`?\n",
    "\n",
    "As you can notice that -\n",
    "\n",
    "* `sum(5) = 5 + sum(4)`\n",
    "* `sum(4) = 4 + sum(3)`\n",
    "* `sum(3) = 3 + sum(2)`\n",
    "* `sum(2) = 2 + sum(1)`\n",
    "* `sum(1) = 1 + sum(0)`\n",
    "* `sum(0) = 0`\n",
    "\n",
    "From these patterns we can say that `sum(n) = n + sum(n-1)`. This is known as the recursive case. When we cannot break down the problem further, we call that a base case. For example `sum(0) = 0`. A typical structure of a recursive function is following:\n",
    "\n",
    "```python\n",
    "def recursive_function(input):\n",
    "    if base_case:\n",
    "        return solution_to_base_case\n",
    "    else:\n",
    "        return small_solution op recursive_function(smaller_input)\n",
    "```\n",
    "\n",
    "In the above code, \n",
    "* `op` refers to any operation that you would have to do calculate the final solution. In our example, the op is the `+`\n",
    "* `small_solution` is the solution of the smaller part of the problem.\n",
    "* `smaller_input` is breaking down the input to slightly smaller input. "
   ]
  },
  {
   "cell_type": "code",
   "execution_count": 1,
   "metadata": {},
   "outputs": [],
   "source": [
    "def recursive_sum_of_n(number: int) -> int:\n",
    "    \"\"\"Recursively calculate the sum of all non-negative numbers up to n\n",
    "\n",
    "    Args:\n",
    "        number (int): The number to add up to\n",
    "\n",
    "    Returns:\n",
    "        int: The sum of all non-negative integers up to `number`\n",
    "    \"\"\"\n",
    "\n",
    "    if number <= 0:\n",
    "        return 0\n",
    "    else:\n",
    "        return number + recursive_sum_of_n(number - 1)\n"
   ]
  },
  {
   "cell_type": "markdown",
   "metadata": {},
   "source": [
    "## More examples of recursion from class"
   ]
  },
  {
   "cell_type": "code",
   "execution_count": 2,
   "metadata": {},
   "outputs": [],
   "source": [
    "# Non-recusrive function\n",
    "def add_numbers_in_list(some_list: list[int]) -> int:\n",
    "    sum = 0\n",
    "    for each_num in some_list:\n",
    "        sum = sum + each_num\n",
    "\n",
    "    return sum\n",
    "\n",
    "# Recursive function\n",
    "def add_numbers_in_list_recursively(some_list: list[int]) -> int:\n",
    "    if len(some_list) == 1:  # Base Case\n",
    "        return some_list[0]\n",
    "    else:  # Recursive Case\n",
    "        return some_list[0] + add_numbers_in_list_recursively(some_list[1:])"
   ]
  },
  {
   "cell_type": "code",
   "execution_count": 3,
   "metadata": {},
   "outputs": [],
   "source": [
    "def iterative_factorial(number: int) -> int:\n",
    "    \"\"\"\n",
    "    Calculates the factorial of a number iteratively\n",
    "\n",
    "    Args:\n",
    "        number (int): The number to calculate the factorial of.\n",
    "\n",
    "    Returns:\n",
    "        int: The factorial of `number`\n",
    "    \"\"\"\n",
    "    factorial = 1\n",
    "    if number >= 1:\n",
    "        for i in range(1, factorial):\n",
    "            factorial = factorial * i\n",
    "    \n",
    "    return factorial\n",
    "\n",
    "\n",
    "def recursive_factorial(number: int) -> int:\n",
    "    \"\"\"Calculates the factorial of a number recursively\n",
    "\n",
    "    Args:\n",
    "        number (int): The number to calculate the factorial of\n",
    "\n",
    "    Returns:\n",
    "        int: The factorial of `number`\n",
    "    \"\"\"\n",
    "    if number <= 1:\n",
    "        return 1\n",
    "    else:\n",
    "        return number * recursive_factorial(number - 1)"
   ]
  },
  {
   "cell_type": "markdown",
   "metadata": {},
   "source": [
    "### Resolve the bug\n",
    "\n",
    "In the following function that we did in class, we found a bug when tried to pass an empty list.\n",
    "How would you resolve this bug?"
   ]
  },
  {
   "cell_type": "code",
   "execution_count": null,
   "metadata": {},
   "outputs": [],
   "source": [
    "def product_of_numbers(some_list: list[int]) -> int:\n",
    "    if len(some_list) == 1 or len(some_list) == 0:  # Base Case\n",
    "        return some_list[0]\n",
    "    else:\n",
    "        return some_list[0] * product_of_numbers(some_list[1:])"
   ]
  }
 ],
 "metadata": {
  "kernelspec": {
   "display_name": "colby",
   "language": "python",
   "name": "python3"
  },
  "language_info": {
   "codemirror_mode": {
    "name": "ipython",
    "version": 3
   },
   "file_extension": ".py",
   "mimetype": "text/x-python",
   "name": "python",
   "nbconvert_exporter": "python",
   "pygments_lexer": "ipython3",
   "version": "3.11.9"
  }
 },
 "nbformat": 4,
 "nbformat_minor": 2
}
