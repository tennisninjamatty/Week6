{
 "cells": [
  {
   "cell_type": "markdown",
   "metadata": {},
   "source": [
    "# Writing Cleaner Code\n",
    "\n",
    "Writing clean code is an important aspect of programming. Whenever you are writing code, you are not just writing it for computers but also for your future self and other humans. Therefore, it is essential that you make your code as readable as possible. Every programming langauge has its own convention or style of writing code and it is essential to follow them.\n",
    "\n",
    "For example, in Python, whenever we write variable we use snake_case where we separate words using the underscore character `_` and the names are in lowercase letters (e.g.  - `list_of_numbers`). In Java, we use cameCase to write variable names where except for the first word, the first letter of the word must be an uppercase letter without any spaces (e.g. - `listOfNumbers`).\n",
    "\n"
   ]
  },
  {
   "cell_type": "markdown",
   "metadata": {},
   "source": [
    "## Writing More Meaningful variable and function names\n",
    "\n",
    "One of the first steps you should take towards writing cleaner code is writing better variable and function names. Whenever you are writing a variable, the name of the variable should be explicit so that anyone who reads your code understands what it holds. Consider following good and bad examples:\n",
    "\n",
    "\n",
    "```python\n",
    "\n",
    "# bad example\n",
    "n: int = 5\n",
    "# good example\n",
    "number: int = 5\n",
    "\n",
    "# bad example\n",
    "n2: int = input(\"Enter the second number\")\n",
    "# good example\n",
    "second_number: int = input(\"Enter the second number\" )\n",
    "\n",
    "\n",
    "# bad example\n",
    "trans_text = str.maketrans('', '', string.punctuation)\n",
    "cleaned_text_3_1 = lower_text_3_1.translate(trans_text)\n",
    "cleaned_text_3_2 = lower_text_3_2.translate(trans_text)\n",
    "\n",
    "# good example\n",
    "string_without_punctuation = str.maketrans('', '', string.punctuation)\n",
    "first_string_lower_without_punctuation = first_string_lower.translate(string_without_punctuation)\n",
    "second_string_lower_without_punctuation = second_string_lower.translate(string_without_punctuation)\n",
    "\n",
    "# bad\n",
    "analyze_file: str = input(\"Enter file name\\n >> User: \")        \n",
    "analyze_file1 = get_file_contents(analyze_file)\n",
    "user_text2: str = analyze_file1.lower()\n",
    "\n",
    "# good\n",
    "file_name: str = input(\"Enter file name\\n >> User: \")        \n",
    "file_contents: str = get_file_contents(file_name)\n",
    "file_contents_lowered: str = file_contents.lower()\n",
    "```\n",
    "\n",
    "\n"
   ]
  },
  {
   "cell_type": "markdown",
   "metadata": {},
   "source": [
    "Similarly for function names, it is imperative to write better names\n",
    "\n",
    "\n",
    "```python\n",
    "\n",
    "# bad example\n",
    "def x():\n",
    "    print(\"Hello, welcome to programming!\")\n",
    "\n",
    "# good example\n",
    "def print_welcome_message() -> None:\n",
    "    print(\"Hello, welcome to programming!\")\n",
    "\n",
    "\n",
    "# bad example\n",
    "def stuff(number):\n",
    "    return number % 2 == 0\n",
    "\n",
    "# good example\n",
    "def is_even(number: int) -> bool:\n",
    "    return number % 2 == 0\n",
    "\n",
    "\n",
    "# bad example\n",
    "def value(celsius):\n",
    "    return (celsius * 9/5) + 32\n",
    "\n",
    "# good example\n",
    "def calculate_temp_in_fahrenheit(celsius: float) -> float\n",
    "    return (celsius * 9/5) + 32\n",
    "\n",
    "\n",
    "# bad example\n",
    "def list_opposite(lst):\n",
    "    return lst[::-1]\n",
    "\n",
    "# good example\n",
    "def reverse_list(a_list: list) -> list:\n",
    "    return a_list[::-1]\n"
   ]
  },
  {
   "cell_type": "markdown",
   "metadata": {},
   "source": [
    "## Whitespaces"
   ]
  },
  {
   "cell_type": "markdown",
   "metadata": {},
   "source": [
    "Apart from names, whitespace is also essential in ensuring readability. Fortunately for you, there are tools that automatically format the code for you in that regard. You must have Ruff extension installed in your VS Code. Now, if you open your command panel (Command/Ctrl + P) followed by the `>` greater than sign, then type \"Ruff: Format document\", it will automatically format the `.py` files for you. \n",
    "\n",
    "**NOTE** - Ruff does not work on Jupyter notebooks!\n",
    "\n",
    "\n",
    "You can also ensure that your `.py` is formatted everytime you hit save by going to Settings (Command/Ctrl + ',') and in the search bar type \"Format on save\", check the first box that says \"Editor: Format On Save\". "
   ]
  },
  {
   "cell_type": "markdown",
   "metadata": {},
   "source": [
    "## Writing functional vs clean code\n",
    "\n",
    "\n",
    "Writing clean code just as your are writing the solution can be challenging in the beginning. If you are working on a problem and you are still trying to figure out the solution, in that case, writing meaningful variable names becomes very challenging. So you can start by writing unclean code and once you have a solution, you can then revise the code to rename variables. "
   ]
  }
 ],
 "metadata": {
  "language_info": {
   "name": "python"
  }
 },
 "nbformat": 4,
 "nbformat_minor": 2
}
